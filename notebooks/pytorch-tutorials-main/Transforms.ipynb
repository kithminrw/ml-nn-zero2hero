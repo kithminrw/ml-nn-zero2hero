{
 "cells": [
  {
   "cell_type": "markdown",
   "id": "5fd20c7f-0ec7-4444-b11e-05aa12e79e83",
   "metadata": {},
   "source": [
    "# Transforms\n",
    "\n",
    "https://pytorch.org/tutorials/beginner/basics/transforms_tutorial.html"
   ]
  },
  {
   "cell_type": "code",
   "execution_count": 1,
   "id": "bc949233-e813-441e-944a-5e275cb8c48f",
   "metadata": {
    "tags": []
   },
   "outputs": [],
   "source": [
    "import torch\n",
    "from torchvision import datasets\n",
    "from torchvision.transforms import ToTensor, Lambda"
   ]
  },
  {
   "cell_type": "code",
   "execution_count": 2,
   "id": "dbfdbf2e-773e-46ec-81ae-25115f78432b",
   "metadata": {
    "tags": []
   },
   "outputs": [],
   "source": [
    "ds = datasets.FashionMNIST(\n",
    "    root = 'data',\n",
    "    train = True,\n",
    "    download = True,\n",
    "    transform = ToTensor(), # Converts numpy array or PIL image into FloatTensor, values: [0,1]\n",
    "    target_transform = Lambda(lambda y: torch.zeros(10,dtype=torch.float)\\\n",
    "                              .scatter_(0, torch.tensor(y),value=1))) # Scatter writes all values (1) into torch.zeros at index specified by y."
   ]
  },
  {
   "cell_type": "code",
   "execution_count": null,
   "id": "8957e907-b4bd-4791-b6ee-2aec20205d93",
   "metadata": {},
   "outputs": [],
   "source": []
  }
 ],
 "metadata": {
  "kernelspec": {
   "display_name": "Python 3 (ipykernel)",
   "language": "python",
   "name": "python3"
  },
  "language_info": {
   "codemirror_mode": {
    "name": "ipython",
    "version": 3
   },
   "file_extension": ".py",
   "mimetype": "text/x-python",
   "name": "python",
   "nbconvert_exporter": "python",
   "pygments_lexer": "ipython3",
   "version": "3.8.17"
  }
 },
 "nbformat": 4,
 "nbformat_minor": 5
}
