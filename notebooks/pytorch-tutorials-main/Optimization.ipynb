{
 "cells": [
  {
   "cell_type": "markdown",
   "id": "43ec3c95",
   "metadata": {},
   "source": [
    "# Optimizing Model Parameters\n",
    "\n",
    "https://pytorch.org/tutorials/beginner/basics/optimization_tutorial.html"
   ]
  },
  {
   "cell_type": "code",
   "execution_count": 1,
   "id": "192d8086",
   "metadata": {},
   "outputs": [],
   "source": [
    "import torch\n",
    "from torch import nn\n",
    "from torch.utils.data import DataLoader\n",
    "from torchvision import datasets\n",
    "from torchvision.transforms import ToTensor"
   ]
  },
  {
   "cell_type": "code",
   "execution_count": 2,
   "id": "411f68aa",
   "metadata": {},
   "outputs": [],
   "source": [
    "training_data = datasets.FashionMNIST(\n",
    "    root = 'data',                \n",
    "    train = True,\n",
    "    download = True,\n",
    "    transform = ToTensor())"
   ]
  },
  {
   "cell_type": "code",
   "execution_count": 3,
   "id": "36bb9cb0",
   "metadata": {},
   "outputs": [],
   "source": [
    "test_data = datasets.FashionMNIST(\n",
    "    root = 'data',\n",
    "    train = False,\n",
    "    download = True,\n",
    "    transform = ToTensor()\n",
    "    )"
   ]
  },
  {
   "cell_type": "code",
   "execution_count": 4,
   "id": "574217a9",
   "metadata": {},
   "outputs": [],
   "source": [
    "train_dataloader = DataLoader(training_data, batch_size = 128)\n",
    "test_dataloader = DataLoader(test_data, batch_size = 128)"
   ]
  },
  {
   "cell_type": "code",
   "execution_count": 5,
   "id": "971a2e12",
   "metadata": {},
   "outputs": [],
   "source": [
    "class NeuralNetwork(nn.Module):\n",
    "    def __init__(self):\n",
    "        super().__init__()\n",
    "        self.flatten = nn.Flatten()\n",
    "        self.linear_relu_stack = nn.Sequential(\n",
    "            nn.Linear(28*28, 512),\n",
    "            nn.ReLU(),\n",
    "            nn.Linear(512,512),\n",
    "            nn.ReLU(),\n",
    "            nn.Linear(512,10))\n",
    "        \n",
    "    def forward(self, x):\n",
    "        x = self.flatten(x)\n",
    "        logits = self.linear_relu_stack(x)\n",
    "        return logits\n",
    "\n",
    "model = NeuralNetwork()"
   ]
  },
  {
   "cell_type": "code",
   "execution_count": 6,
   "id": "774a0571",
   "metadata": {},
   "outputs": [
    {
     "name": "stdout",
     "output_type": "stream",
     "text": [
      "NeuralNetwork(\n",
      "  (flatten): Flatten(start_dim=1, end_dim=-1)\n",
      "  (linear_relu_stack): Sequential(\n",
      "    (0): Linear(in_features=784, out_features=512, bias=True)\n",
      "    (1): ReLU()\n",
      "    (2): Linear(in_features=512, out_features=512, bias=True)\n",
      "    (3): ReLU()\n",
      "    (4): Linear(in_features=512, out_features=10, bias=True)\n",
      "  )\n",
      ")\n"
     ]
    }
   ],
   "source": [
    "print(model)"
   ]
  },
  {
   "cell_type": "code",
   "execution_count": 7,
   "id": "42a52de2",
   "metadata": {},
   "outputs": [],
   "source": [
    "lr = 2e-3\n",
    "batch_size = 128\n",
    "epochs = 5"
   ]
  },
  {
   "cell_type": "code",
   "execution_count": 8,
   "id": "78fbb370",
   "metadata": {},
   "outputs": [],
   "source": [
    "loss_fn = nn.CrossEntropyLoss()"
   ]
  },
  {
   "cell_type": "code",
   "execution_count": 9,
   "id": "c277cbd2",
   "metadata": {},
   "outputs": [],
   "source": [
    "optimizer = torch.optim.SGD(model.parameters(), lr = lr)"
   ]
  },
  {
   "cell_type": "code",
   "execution_count": 10,
   "id": "6b3ba0f1",
   "metadata": {},
   "outputs": [],
   "source": [
    "def train_loop(dataloader, model, loss_fn, optimizer):\n",
    "    size = len(dataloader.dataset)\n",
    "    model.train()\n",
    "    for batch, (X, y) in enumerate(dataloader):\n",
    "        pred = model(X)\n",
    "        loss = loss_fn(pred,y)\n",
    "        \n",
    "        # backprop\n",
    "        loss.backward()\n",
    "        optimizer.step()\n",
    "        optimizer.zero_grad()\n",
    "        \n",
    "        if (batch % 100 == 0):\n",
    "            loss, current = loss.item(), (batch + 1)*len(X)\n",
    "            print(f'loss: {loss:.7f}\\t[{current/size}]')"
   ]
  },
  {
   "cell_type": "code",
   "execution_count": 11,
   "id": "8e62d01b",
   "metadata": {},
   "outputs": [],
   "source": [
    "def test_loop(dataloader, model, loss_fn):\n",
    "    model.eval()\n",
    "    size = len(dataloader.dataset)\n",
    "    num_batches = len(dataloader)\n",
    "    test_loss, correct = 0,0\n",
    "    \n",
    "    with torch.no_grad():\n",
    "        for X,y in dataloader:\n",
    "            pred = model(X)\n",
    "            test_loss += loss_fn(pred, y).item()\n",
    "            correct += (pred.argmax(1) == y).type(torch.float).sum().item()\n",
    "            \n",
    "        test_loss /= num_batches\n",
    "        correct /= size\n",
    "        print(f\"Test Error: \\n Accuracy: {(100*correct):>0.1f}%, Avg loss: {test_loss:>8f} \\n\")"
   ]
  },
  {
   "cell_type": "code",
   "execution_count": 12,
   "id": "0c6fdcf2",
   "metadata": {},
   "outputs": [
    {
     "name": "stdout",
     "output_type": "stream",
     "text": [
      "Epoch 0\n",
      "loss: 2.3115804\t[0.0021333333333333334]\n",
      "loss: 2.2762306\t[0.21546666666666667]\n",
      "loss: 2.2457299\t[0.4288]\n",
      "loss: 2.2215521\t[0.6421333333333333]\n",
      "loss: 2.1804790\t[0.8554666666666667]\n",
      "Test Error: \n",
      " Accuracy: 42.7%, Avg loss: 2.153269 \n",
      "\n",
      "Epoch 1\n",
      "loss: 2.1593382\t[0.0021333333333333334]\n",
      "loss: 2.0896223\t[0.21546666666666667]\n",
      "loss: 2.0480008\t[0.4288]\n",
      "loss: 2.0019336\t[0.6421333333333333]\n",
      "loss: 1.9279108\t[0.8554666666666667]\n",
      "Test Error: \n",
      " Accuracy: 54.3%, Avg loss: 1.872892 \n",
      "\n",
      "Epoch 2\n",
      "loss: 1.8711869\t[0.0021333333333333334]\n",
      "loss: 1.7497610\t[0.21546666666666667]\n",
      "loss: 1.6954808\t[0.4288]\n",
      "loss: 1.6254768\t[0.6421333333333333]\n",
      "loss: 1.5668992\t[0.8554666666666667]\n",
      "Test Error: \n",
      " Accuracy: 62.4%, Avg loss: 1.508025 \n",
      "\n",
      "Epoch 3\n",
      "loss: 1.4927374\t[0.0021333333333333334]\n",
      "loss: 1.3861099\t[0.21546666666666667]\n",
      "loss: 1.3517952\t[0.4288]\n",
      "loss: 1.3056839\t[0.6421333333333333]\n",
      "loss: 1.2887959\t[0.8554666666666667]\n",
      "Test Error: \n",
      " Accuracy: 64.2%, Avg loss: 1.248191 \n",
      "\n",
      "Epoch 4\n",
      "loss: 1.2253227\t[0.0021333333333333334]\n",
      "loss: 1.1385649\t[0.21546666666666667]\n",
      "loss: 1.1221567\t[0.4288]\n",
      "loss: 1.1020346\t[0.6421333333333333]\n",
      "loss: 1.1107754\t[0.8554666666666667]\n",
      "Test Error: \n",
      " Accuracy: 65.1%, Avg loss: 1.084553 \n",
      "\n"
     ]
    }
   ],
   "source": [
    "epochs = 5\n",
    "for t in range(epochs):\n",
    "    print(f'Epoch {t}')\n",
    "    train_loop(train_dataloader, model, loss_fn, optimizer)\n",
    "    test_loop(test_dataloader, model, loss_fn)"
   ]
  },
  {
   "cell_type": "code",
   "execution_count": null,
   "id": "299f48a0",
   "metadata": {},
   "outputs": [],
   "source": []
  }
 ],
 "metadata": {
  "kernelspec": {
   "display_name": "Python 3 (ipykernel)",
   "language": "python",
   "name": "python3"
  },
  "language_info": {
   "codemirror_mode": {
    "name": "ipython",
    "version": 3
   },
   "file_extension": ".py",
   "mimetype": "text/x-python",
   "name": "python",
   "nbconvert_exporter": "python",
   "pygments_lexer": "ipython3",
   "version": "3.8.17"
  }
 },
 "nbformat": 4,
 "nbformat_minor": 5
}
