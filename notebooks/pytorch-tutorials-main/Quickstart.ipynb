{
 "cells": [
  {
   "cell_type": "markdown",
   "id": "0fb3ebf6-c822-422a-bef5-02df0cdec170",
   "metadata": {},
   "source": [
    "# Quickstart Tutorial Refresher\n",
    "https://pytorch.org/tutorials/beginner/basics/quickstart_tutorial.html"
   ]
  },
  {
   "cell_type": "code",
   "execution_count": 1,
   "id": "d1a0bf1d-56fb-4b77-9d3d-2cf9db87e141",
   "metadata": {},
   "outputs": [],
   "source": [
    "import torch\n",
    "from torch import nn\n",
    "from torch.utils.data import DataLoader # Wraps iterable around Dataset\n",
    "from torchvision import datasets # Dataset stores samples and labels\n",
    "from torchvision.transforms import ToTensor"
   ]
  },
  {
   "cell_type": "code",
   "execution_count": 2,
   "id": "b81ac04d-9ace-4fca-acef-b14ca99cdf59",
   "metadata": {
    "tags": []
   },
   "outputs": [],
   "source": [
    "training_data = datasets.FashionMNIST(\n",
    "    root = 'data',\n",
    "    train = True,\n",
    "    download = True,\n",
    "    transform = ToTensor())\n",
    "\n",
    "test_data = datasets.FashionMNIST(\n",
    "    root = 'data',\n",
    "    train = False,\n",
    "    download = True,\n",
    "    transform = ToTensor())"
   ]
  },
  {
   "cell_type": "code",
   "execution_count": 3,
   "id": "bfed00b6-62b3-453c-9041-fd5cfece627c",
   "metadata": {
    "tags": []
   },
   "outputs": [
    {
     "name": "stdout",
     "output_type": "stream",
     "text": [
      "Shape of X [N, C, H, W]: torch.Size([64, 1, 28, 28])\n",
      "Shape of y: torch.Size([64]) torch.int64\n"
     ]
    }
   ],
   "source": [
    "batch_size = 64\n",
    "\n",
    "# Wrap DataLoader iterable around training and test set:\n",
    "train_dataloader = DataLoader(training_data, batch_size = batch_size)\n",
    "test_dataloader = DataLoader(test_data, batch_size = batch_size)\n",
    "\n",
    "for X, y in test_dataloader:\n",
    "    print(f'Shape of X [N, C, H, W]: {X.shape}')\n",
    "    print(f'Shape of y: {y.shape} {y.dtype}')\n",
    "    break"
   ]
  },
  {
   "cell_type": "code",
   "execution_count": 4,
   "id": "e982979c-2f78-4829-87a4-28f3a745b46f",
   "metadata": {
    "tags": []
   },
   "outputs": [
    {
     "name": "stdout",
     "output_type": "stream",
     "text": [
      "cpu\n"
     ]
    }
   ],
   "source": [
    "device = (\n",
    "    'cuda'\n",
    "    if torch.cuda.is_available()\n",
    "    else 'mps'\n",
    "    if torch.backends.mps.is_available()\n",
    "    else 'cpu' )\n",
    "print(device)"
   ]
  },
  {
   "cell_type": "code",
   "execution_count": 5,
   "id": "4f32978b-5f06-44a9-be3f-7ff2b04cd311",
   "metadata": {
    "tags": []
   },
   "outputs": [
    {
     "name": "stdout",
     "output_type": "stream",
     "text": [
      "None\n"
     ]
    }
   ],
   "source": [
    "print(torch.version.cuda)"
   ]
  },
  {
   "cell_type": "code",
   "execution_count": 6,
   "id": "1e6aa1b8-0c19-4d8c-b5b6-88a5285e102d",
   "metadata": {
    "tags": []
   },
   "outputs": [],
   "source": [
    "class NeuralNetwork(nn.Module):\n",
    "    def __init__(self):\n",
    "        super().__init__()\n",
    "        self.flatten = nn.Flatten()\n",
    "        self.linear_relu_stack = nn.Sequential(\n",
    "            nn.Linear(28*28, 512),\n",
    "            nn.ReLU(),\n",
    "            nn.Linear(512,512),\n",
    "            nn.ReLU(),\n",
    "            nn.Linear(512, 10))\n",
    "        \n",
    "    def forward(self, x):\n",
    "        x = self.flatten(x)\n",
    "        logits = self.linear_relu_stack(x)\n",
    "        return logits"
   ]
  },
  {
   "cell_type": "code",
   "execution_count": 7,
   "id": "75bb53ad-6ae9-48ec-8730-7ba7399e2e2b",
   "metadata": {
    "tags": []
   },
   "outputs": [
    {
     "name": "stdout",
     "output_type": "stream",
     "text": [
      "NeuralNetwork(\n",
      "  (flatten): Flatten(start_dim=1, end_dim=-1)\n",
      "  (linear_relu_stack): Sequential(\n",
      "    (0): Linear(in_features=784, out_features=512, bias=True)\n",
      "    (1): ReLU()\n",
      "    (2): Linear(in_features=512, out_features=512, bias=True)\n",
      "    (3): ReLU()\n",
      "    (4): Linear(in_features=512, out_features=10, bias=True)\n",
      "  )\n",
      ")\n"
     ]
    }
   ],
   "source": [
    "model = NeuralNetwork().to(device)\n",
    "print(model)"
   ]
  },
  {
   "cell_type": "code",
   "execution_count": 8,
   "id": "c99da73c-33db-419f-9e29-95177f836d7b",
   "metadata": {
    "tags": []
   },
   "outputs": [],
   "source": [
    "loss_fn = nn.CrossEntropyLoss()\n",
    "optimizer = torch.optim.SGD(model.parameters(), lr = 0.001)"
   ]
  },
  {
   "cell_type": "code",
   "execution_count": 9,
   "id": "88e908b7-fa62-4725-b4bd-0fe73db74729",
   "metadata": {
    "tags": []
   },
   "outputs": [],
   "source": [
    "def train(dataloader, model, loss_fn, optimizer):\n",
    "    size = len(dataloader.dataset)\n",
    "    model.train() # Put model in training mode\n",
    "    for batch, (X,y) in enumerate(dataloader):\n",
    "        X, y = X.to(device), y.to(device)\n",
    "        \n",
    "        preds = model(X)\n",
    "        loss = loss_fn(preds,y)\n",
    "        \n",
    "        # Back prop\n",
    "        loss.backward()\n",
    "        optimizer.step()\n",
    "        optimizer.zero_grad() # Prevent gradient accumulation.\n",
    "        \n",
    "        if (batch % 100 == 0):\n",
    "            loss, current = loss.item(), (batch+1)*len(X)\n",
    "            print(f'loss: {loss} [{current}/{size}]')"
   ]
  },
  {
   "cell_type": "code",
   "execution_count": 10,
   "id": "3ebc9ca9-4b63-4b01-a183-c59af42767b4",
   "metadata": {
    "tags": []
   },
   "outputs": [],
   "source": [
    "def test(dataloader, model, loss_fn):\n",
    "    size = len(dataloader.dataset)\n",
    "    num_batches = len(dataloader)\n",
    "    model.eval()\n",
    "    test_loss, correct = 0,0\n",
    "    with torch.no_grad():\n",
    "        for X,y in dataloader:\n",
    "            X, y = X.to(device), y.to(device)\n",
    "            pred = model(X)\n",
    "            test_loss += loss_fn(pred, y).item()\n",
    "            correct += (pred.argmax(1) == y).type(torch.float).sum().item()\n",
    "    test_loss /= num_batches\n",
    "    correct /= size\n",
    "    print(f'Test Error: \\n Accuracy: {correct}, Avg Loss: {test_loss}')"
   ]
  },
  {
   "cell_type": "code",
   "execution_count": 11,
   "id": "3ed27322-e98b-4f01-9d68-52b411272272",
   "metadata": {
    "tags": []
   },
   "outputs": [
    {
     "name": "stdout",
     "output_type": "stream",
     "text": [
      "Epoch 1:\n",
      "loss: 2.3097951412200928 [64/60000]\n",
      "loss: 2.2971668243408203 [6464/60000]\n",
      "loss: 2.2807164192199707 [12864/60000]\n",
      "loss: 2.2672369480133057 [19264/60000]\n",
      "loss: 2.2729685306549072 [25664/60000]\n",
      "loss: 2.235024929046631 [32064/60000]\n",
      "loss: 2.232646942138672 [38464/60000]\n",
      "loss: 2.2042691707611084 [44864/60000]\n",
      "loss: 2.1992714405059814 [51264/60000]\n",
      "loss: 2.169276475906372 [57664/60000]\n",
      "Test Error: \n",
      " Accuracy: 0.475, Avg Loss: 2.1675296983901102\n",
      "Epoch 2:\n",
      "loss: 2.179441452026367 [64/60000]\n",
      "loss: 2.1660566329956055 [6464/60000]\n",
      "loss: 2.118237018585205 [12864/60000]\n",
      "loss: 2.1260557174682617 [19264/60000]\n",
      "loss: 2.091697931289673 [25664/60000]\n",
      "loss: 2.0246806144714355 [32064/60000]\n",
      "loss: 2.038767099380493 [38464/60000]\n",
      "loss: 1.9678031206130981 [44864/60000]\n",
      "loss: 1.9742379188537598 [51264/60000]\n",
      "loss: 1.8971574306488037 [57664/60000]\n",
      "Test Error: \n",
      " Accuracy: 0.5833, Avg Loss: 1.9071385723770045\n",
      "Epoch 3:\n",
      "loss: 1.9391239881515503 [64/60000]\n",
      "loss: 1.9082529544830322 [6464/60000]\n",
      "loss: 1.804511308670044 [12864/60000]\n",
      "loss: 1.8335306644439697 [19264/60000]\n",
      "loss: 1.7382060289382935 [25664/60000]\n",
      "loss: 1.6779433488845825 [32064/60000]\n",
      "loss: 1.6836109161376953 [38464/60000]\n",
      "loss: 1.595080852508545 [44864/60000]\n",
      "loss: 1.6244874000549316 [51264/60000]\n",
      "loss: 1.5070862770080566 [57664/60000]\n",
      "Test Error: \n",
      " Accuracy: 0.6023, Avg Loss: 1.5394985174677174\n",
      "Epoch 4:\n",
      "loss: 1.6068090200424194 [64/60000]\n",
      "loss: 1.569368839263916 [6464/60000]\n",
      "loss: 1.4280463457107544 [12864/60000]\n",
      "loss: 1.4889520406723022 [19264/60000]\n",
      "loss: 1.3877135515213013 [25664/60000]\n",
      "loss: 1.3686951398849487 [32064/60000]\n",
      "loss: 1.369626522064209 [38464/60000]\n",
      "loss: 1.3049284219741821 [44864/60000]\n",
      "loss: 1.3441534042358398 [51264/60000]\n",
      "loss: 1.2345523834228516 [57664/60000]\n",
      "Test Error: \n",
      " Accuracy: 0.6296, Avg Loss: 1.2691362185083377\n",
      "Epoch 5:\n",
      "loss: 1.3491069078445435 [64/60000]\n",
      "loss: 1.326840877532959 [6464/60000]\n",
      "loss: 1.1660377979278564 [12864/60000]\n",
      "loss: 1.261041522026062 [19264/60000]\n",
      "loss: 1.1502724885940552 [25664/60000]\n",
      "loss: 1.1654061079025269 [32064/60000]\n",
      "loss: 1.174437403678894 [38464/60000]\n",
      "loss: 1.1229931116104126 [44864/60000]\n",
      "loss: 1.1649609804153442 [51264/60000]\n",
      "loss: 1.0727410316467285 [57664/60000]\n",
      "Test Error: \n",
      " Accuracy: 0.6459, Avg Loss: 1.0983730934228106\n"
     ]
    }
   ],
   "source": [
    "epochs = 5\n",
    "for t in range(epochs):\n",
    "    print(f'Epoch {t+1}:')\n",
    "    train(train_dataloader, model, loss_fn, optimizer)\n",
    "    test(test_dataloader, model, loss_fn)"
   ]
  },
  {
   "cell_type": "code",
   "execution_count": 12,
   "id": "8d09dbab-ee65-43e5-b1e4-d1e2e5c8e1c3",
   "metadata": {},
   "outputs": [],
   "source": [
    "torch.save(model.state_dict(), 'model.pth')"
   ]
  },
  {
   "cell_type": "code",
   "execution_count": 13,
   "id": "8d706e93-d1e2-4bc2-898d-4b12386714cb",
   "metadata": {
    "tags": []
   },
   "outputs": [
    {
     "data": {
      "text/plain": [
       "<All keys matched successfully>"
      ]
     },
     "execution_count": 13,
     "metadata": {},
     "output_type": "execute_result"
    }
   ],
   "source": [
    "model = NeuralNetwork().to(device)\n",
    "model.load_state_dict(torch.load('model.pth'))"
   ]
  },
  {
   "cell_type": "code",
   "execution_count": 14,
   "id": "1222d093-5822-47e2-a574-daf7dd04dff4",
   "metadata": {
    "tags": []
   },
   "outputs": [],
   "source": [
    "classes = [\n",
    "    \"T-shirt/top\",\n",
    "    \"Trouser\",\n",
    "    \"Pullover\",\n",
    "    \"Dress\",\n",
    "    \"Coat\",\n",
    "    \"Sandal\",\n",
    "    \"Shirt\",\n",
    "    \"Sneaker\",\n",
    "    \"Bag\",\n",
    "    \"Ankle boot\",\n",
    "]"
   ]
  },
  {
   "cell_type": "code",
   "execution_count": 15,
   "id": "5b6a0524-c597-4658-b6c8-a6e4939d127d",
   "metadata": {
    "tags": []
   },
   "outputs": [
    {
     "data": {
      "text/plain": [
       "NeuralNetwork(\n",
       "  (flatten): Flatten(start_dim=1, end_dim=-1)\n",
       "  (linear_relu_stack): Sequential(\n",
       "    (0): Linear(in_features=784, out_features=512, bias=True)\n",
       "    (1): ReLU()\n",
       "    (2): Linear(in_features=512, out_features=512, bias=True)\n",
       "    (3): ReLU()\n",
       "    (4): Linear(in_features=512, out_features=10, bias=True)\n",
       "  )\n",
       ")"
      ]
     },
     "execution_count": 15,
     "metadata": {},
     "output_type": "execute_result"
    }
   ],
   "source": [
    "model.eval()"
   ]
  },
  {
   "cell_type": "code",
   "execution_count": 16,
   "id": "a464bd78-edaf-43dc-99f1-b020e1b401eb",
   "metadata": {
    "tags": []
   },
   "outputs": [],
   "source": [
    "x, y = test_data[0][0], test_data[0][1]"
   ]
  },
  {
   "cell_type": "code",
   "execution_count": 19,
   "id": "aa30b507-4b43-4bb8-b161-33e68c2badd9",
   "metadata": {
    "tags": []
   },
   "outputs": [
    {
     "data": {
      "text/plain": [
       "<matplotlib.image.AxesImage at 0x1ea7beaf340>"
      ]
     },
     "execution_count": 19,
     "metadata": {},
     "output_type": "execute_result"
    },
    {
     "data": {
      "image/png": "[encoded data removed]",
      "text/plain": [
       "<Figure size 640x480 with 1 Axes>"
      ]
     },
     "metadata": {},
     "output_type": "display_data"
    }
   ],
   "source": [
    "import matplotlib.pyplot as plt\n",
    "\n",
    "plt.imshow(x[0,:,:], cmap = 'Greys')"
   ]
  },
  {
   "cell_type": "code",
   "execution_count": 20,
   "id": "920e2115-5dc5-40eb-a2ad-9fa29766649f",
   "metadata": {
    "tags": []
   },
   "outputs": [
    {
     "name": "stdout",
     "output_type": "stream",
     "text": [
      "Predicted: Ankle boot, Actual: Ankle boot\n"
     ]
    }
   ],
   "source": [
    "with torch.no_grad():\n",
    "    x = x.to(device)\n",
    "    pred = model(x)\n",
    "    predicted, actual = classes[pred[0].argmax(0)], classes[y]\n",
    "    print(f'Predicted: {predicted}, Actual: {actual}')"
   ]
  },
  {
   "cell_type": "code",
   "execution_count": null,
   "id": "4ff062d6-3ece-49c8-a219-f64af422a267",
   "metadata": {},
   "outputs": [],
   "source": []
  }
 ],
 "metadata": {
  "kernelspec": {
   "display_name": "Python 3 (ipykernel)",
   "language": "python",
   "name": "python3"
  },
  "language_info": {
   "codemirror_mode": {
    "name": "ipython",
    "version": 3
   },
   "file_extension": ".py",
   "mimetype": "text/x-python",
   "name": "python",
   "nbconvert_exporter": "python",
   "pygments_lexer": "ipython3",
   "version": "3.8.17"
  }
 },
 "nbformat": 4,
 "nbformat_minor": 5
}
