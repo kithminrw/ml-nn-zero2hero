{
 "cells": [
  {
   "cell_type": "markdown",
   "id": "9b054735-57c1-4d45-94d9-9575441d790d",
   "metadata": {},
   "source": [
    "# Tensors\n",
    "\n",
    "https://pytorch.org/tutorials/beginner/basics/tensorqs_tutorial.html"
   ]
  },
  {
   "cell_type": "code",
   "execution_count": 1,
   "id": "007bd0b2-4798-4997-84a8-1b14a1acb505",
   "metadata": {
    "tags": []
   },
   "outputs": [],
   "source": [
    "import torch\n",
    "import numpy as np"
   ]
  },
  {
   "cell_type": "code",
   "execution_count": 2,
   "id": "88968e7b-40f5-45ec-b8e7-797c6490212a",
   "metadata": {
    "tags": []
   },
   "outputs": [],
   "source": [
    "# Initialising a tensor\n",
    "data = [[1, 2], [3, 4]]\n",
    "x_data = torch.tensor(data) # Directly from data - type inferred"
   ]
  },
  {
   "cell_type": "code",
   "execution_count": 3,
   "id": "f24e089c-915b-48db-90fd-bbcc44acec87",
   "metadata": {
    "tags": []
   },
   "outputs": [],
   "source": [
    "np_arr = np.array(data)\n",
    "x_np = torch.from_numpy(np_arr) # From numpy"
   ]
  },
  {
   "cell_type": "code",
   "execution_count": 4,
   "id": "8fa2de23-3193-4454-98ac-f8d97f4da07b",
   "metadata": {
    "tags": []
   },
   "outputs": [
    {
     "name": "stdout",
     "output_type": "stream",
     "text": [
      "tensor([[1, 1],\n",
      "        [1, 1]])\n",
      "tensor([[0.2087, 0.4124],\n",
      "        [0.3067, 0.0017]])\n"
     ]
    }
   ],
   "source": [
    "x_ones = torch.ones_like(x_data) # Retains shape and dtype of x_data\n",
    "print(x_ones)\n",
    "\n",
    "x_rand = torch.rand_like(x_data, dtype = torch.float) # override dtype explicitly\n",
    "print(x_rand)"
   ]
  },
  {
   "cell_type": "code",
   "execution_count": 5,
   "id": "318de473-484a-45dd-99d4-b396c3dc29cf",
   "metadata": {
    "tags": []
   },
   "outputs": [
    {
     "name": "stdout",
     "output_type": "stream",
     "text": [
      "tensor([[0.0303, 0.7202, 0.1824],\n",
      "        [0.8010, 0.9714, 0.9235]])\n",
      "tensor([[1., 1., 1.],\n",
      "        [1., 1., 1.]])\n",
      "tensor([[0., 0., 0.],\n",
      "        [0., 0., 0.]])\n"
     ]
    }
   ],
   "source": [
    "shape = (2,3)\n",
    "rand = torch.rand(shape)\n",
    "print(rand)\n",
    "ones = torch.ones(shape)\n",
    "print(ones)\n",
    "zeros = torch.zeros(shape)\n",
    "print(zeros)"
   ]
  },
  {
   "cell_type": "code",
   "execution_count": 6,
   "id": "44328293-c7b9-4101-b7b2-31e02f320d6e",
   "metadata": {
    "tags": []
   },
   "outputs": [
    {
     "name": "stdout",
     "output_type": "stream",
     "text": [
      "torch.Size([3, 4])\n",
      "torch.float32\n",
      "cpu\n"
     ]
    }
   ],
   "source": [
    "tensor = torch.rand(3,4)\n",
    "print(tensor.shape)\n",
    "print(tensor.dtype)\n",
    "print(tensor.device)"
   ]
  },
  {
   "cell_type": "code",
   "execution_count": 8,
   "id": "e4bff481-c2fb-4876-a6e5-fae31613b2fd",
   "metadata": {
    "tags": []
   },
   "outputs": [],
   "source": [
    "if torch.cuda.is_available():\n",
    "    tensor = tensor.to('cuda')"
   ]
  },
  {
   "cell_type": "code",
   "execution_count": 9,
   "id": "1ec42b0e-cefd-49c0-8d6f-f4bb94f02ae5",
   "metadata": {
    "tags": []
   },
   "outputs": [
    {
     "data": {
      "text/plain": [
       "tensor([[0.3832, 0.1631, 0.6751, 0.8038],\n",
       "        [0.2834, 0.6497, 0.0622, 0.7325],\n",
       "        [0.9067, 0.4693, 0.4548, 0.5866]])"
      ]
     },
     "execution_count": 9,
     "metadata": {},
     "output_type": "execute_result"
    }
   ],
   "source": [
    "tensor"
   ]
  },
  {
   "cell_type": "code",
   "execution_count": 10,
   "id": "5ac253f4-0b50-492a-aa69-ab718fedc6fd",
   "metadata": {
    "tags": []
   },
   "outputs": [
    {
     "data": {
      "text/plain": [
       "device(type='cpu')"
      ]
     },
     "execution_count": 10,
     "metadata": {},
     "output_type": "execute_result"
    }
   ],
   "source": [
    "tensor.device"
   ]
  },
  {
   "cell_type": "code",
   "execution_count": 11,
   "id": "24305446-f5fd-4674-8527-d834f0fa951e",
   "metadata": {
    "tags": []
   },
   "outputs": [
    {
     "name": "stdout",
     "output_type": "stream",
     "text": [
      "tensor([1., 1., 1., 1.])\n"
     ]
    }
   ],
   "source": [
    "tensor = torch.ones(4,4)\n",
    "print(tensor[0])"
   ]
  },
  {
   "cell_type": "code",
   "execution_count": 12,
   "id": "4dc8b2ed-f42b-4e39-bb3b-d5ba7eb2037a",
   "metadata": {
    "tags": []
   },
   "outputs": [
    {
     "data": {
      "text/plain": [
       "tensor([1., 1., 1., 1.])"
      ]
     },
     "execution_count": 12,
     "metadata": {},
     "output_type": "execute_result"
    }
   ],
   "source": [
    "tensor[:,0]"
   ]
  },
  {
   "cell_type": "code",
   "execution_count": 13,
   "id": "794a1bfa-830e-4e3d-8572-22d49be16300",
   "metadata": {
    "tags": []
   },
   "outputs": [
    {
     "data": {
      "text/plain": [
       "tensor([1., 1., 1., 1.])"
      ]
     },
     "execution_count": 13,
     "metadata": {},
     "output_type": "execute_result"
    }
   ],
   "source": [
    "tensor[...,-1]"
   ]
  },
  {
   "cell_type": "code",
   "execution_count": 14,
   "id": "faac4102-234c-4dcc-b2a8-3f9bc094629e",
   "metadata": {
    "tags": []
   },
   "outputs": [],
   "source": [
    "tensor[:,1] = 0 "
   ]
  },
  {
   "cell_type": "code",
   "execution_count": 15,
   "id": "a7ff19a9-b734-4d08-aec4-bcaf74691800",
   "metadata": {
    "tags": []
   },
   "outputs": [
    {
     "data": {
      "text/plain": [
       "tensor([[1., 0., 1., 1.],\n",
       "        [1., 0., 1., 1.],\n",
       "        [1., 0., 1., 1.],\n",
       "        [1., 0., 1., 1.]])"
      ]
     },
     "execution_count": 15,
     "metadata": {},
     "output_type": "execute_result"
    }
   ],
   "source": [
    "tensor"
   ]
  },
  {
   "cell_type": "code",
   "execution_count": 16,
   "id": "a8861082-e7fe-4984-b5ad-0fe15933a231",
   "metadata": {
    "tags": []
   },
   "outputs": [
    {
     "data": {
      "text/plain": [
       "tensor([[1., 0., 1., 1., 1., 0., 1., 1., 1., 0., 1., 1.],\n",
       "        [1., 0., 1., 1., 1., 0., 1., 1., 1., 0., 1., 1.],\n",
       "        [1., 0., 1., 1., 1., 0., 1., 1., 1., 0., 1., 1.],\n",
       "        [1., 0., 1., 1., 1., 0., 1., 1., 1., 0., 1., 1.]])"
      ]
     },
     "execution_count": 16,
     "metadata": {},
     "output_type": "execute_result"
    }
   ],
   "source": [
    "torch.cat([tensor, tensor, tensor], axis= 1)"
   ]
  },
  {
   "cell_type": "code",
   "execution_count": 17,
   "id": "c9d0bc00-b3c2-4f08-a211-51769111bfb1",
   "metadata": {
    "tags": []
   },
   "outputs": [
    {
     "data": {
      "text/plain": [
       "tensor([[1., 1., 1., 1.],\n",
       "        [0., 0., 0., 0.],\n",
       "        [1., 1., 1., 1.],\n",
       "        [1., 1., 1., 1.]])"
      ]
     },
     "execution_count": 17,
     "metadata": {},
     "output_type": "execute_result"
    }
   ],
   "source": [
    "tensor.T"
   ]
  },
  {
   "cell_type": "code",
   "execution_count": 18,
   "id": "29d7e8a9-0b6a-476e-bf47-de96a3725160",
   "metadata": {
    "tags": []
   },
   "outputs": [
    {
     "data": {
      "text/plain": [
       "tensor([[3., 3., 3., 3.],\n",
       "        [3., 3., 3., 3.],\n",
       "        [3., 3., 3., 3.],\n",
       "        [3., 3., 3., 3.]])"
      ]
     },
     "execution_count": 18,
     "metadata": {},
     "output_type": "execute_result"
    }
   ],
   "source": [
    "tensor @ tensor.T"
   ]
  },
  {
   "cell_type": "code",
   "execution_count": 19,
   "id": "0e04a37d-159a-4fa2-b644-393aa3b084ab",
   "metadata": {
    "tags": []
   },
   "outputs": [
    {
     "data": {
      "text/plain": [
       "tensor([[3., 0., 3., 3.],\n",
       "        [3., 0., 3., 3.],\n",
       "        [3., 0., 3., 3.],\n",
       "        [3., 0., 3., 3.]])"
      ]
     },
     "execution_count": 19,
     "metadata": {},
     "output_type": "execute_result"
    }
   ],
   "source": [
    "tensor @ tensor"
   ]
  },
  {
   "cell_type": "code",
   "execution_count": 20,
   "id": "2442b2f0-854e-4188-ae40-2824907a175a",
   "metadata": {
    "tags": []
   },
   "outputs": [
    {
     "data": {
      "text/plain": [
       "tensor([[3., 0., 3., 3.],\n",
       "        [3., 0., 3., 3.],\n",
       "        [3., 0., 3., 3.],\n",
       "        [3., 0., 3., 3.]])"
      ]
     },
     "execution_count": 20,
     "metadata": {},
     "output_type": "execute_result"
    }
   ],
   "source": [
    "tensor.matmul(tensor)"
   ]
  },
  {
   "cell_type": "code",
   "execution_count": 21,
   "id": "d31f1745-4d2d-4000-a444-f314f7008411",
   "metadata": {
    "tags": []
   },
   "outputs": [
    {
     "data": {
      "text/plain": [
       "tensor([[0.7018, 0.7255, 0.1697, 0.9892],\n",
       "        [0.6807, 0.2947, 0.9229, 0.6429],\n",
       "        [0.5679, 0.3342, 0.7900, 0.5581],\n",
       "        [0.5296, 0.3955, 0.5782, 0.2221]])"
      ]
     },
     "execution_count": 21,
     "metadata": {},
     "output_type": "execute_result"
    }
   ],
   "source": [
    "y = torch.rand_like(tensor)\n",
    "y"
   ]
  },
  {
   "cell_type": "code",
   "execution_count": 22,
   "id": "b4ac370b-64c8-438d-b0bd-e6e99a57a4a1",
   "metadata": {
    "tags": []
   },
   "outputs": [
    {
     "data": {
      "text/plain": [
       "tensor([[3., 3., 3., 3.],\n",
       "        [3., 3., 3., 3.],\n",
       "        [3., 3., 3., 3.],\n",
       "        [3., 3., 3., 3.]])"
      ]
     },
     "execution_count": 22,
     "metadata": {},
     "output_type": "execute_result"
    }
   ],
   "source": [
    "torch.matmul(tensor, tensor.T, out = y)\n",
    "y"
   ]
  },
  {
   "cell_type": "code",
   "execution_count": 23,
   "id": "4ce03b9c-6518-4e2f-9520-d59444275503",
   "metadata": {
    "tags": []
   },
   "outputs": [
    {
     "data": {
      "text/plain": [
       "tensor([[1., 0., 1., 1.],\n",
       "        [1., 0., 1., 1.],\n",
       "        [1., 0., 1., 1.],\n",
       "        [1., 0., 1., 1.]])"
      ]
     },
     "execution_count": 23,
     "metadata": {},
     "output_type": "execute_result"
    }
   ],
   "source": [
    "tensor * tensor # element wise product"
   ]
  },
  {
   "cell_type": "code",
   "execution_count": 24,
   "id": "f2193913-eeb2-437f-bc12-9f125e141655",
   "metadata": {
    "tags": []
   },
   "outputs": [
    {
     "data": {
      "text/plain": [
       "tensor([[1., 0., 1., 1.],\n",
       "        [0., 0., 0., 0.],\n",
       "        [1., 0., 1., 1.],\n",
       "        [1., 0., 1., 1.]])"
      ]
     },
     "execution_count": 24,
     "metadata": {},
     "output_type": "execute_result"
    }
   ],
   "source": [
    "tensor*tensor.T"
   ]
  },
  {
   "cell_type": "code",
   "execution_count": 25,
   "id": "c63c9aa2-a030-4a72-966e-b8f3a040d29f",
   "metadata": {
    "tags": []
   },
   "outputs": [
    {
     "data": {
      "text/plain": [
       "tensor([[1., 0., 1., 1.],\n",
       "        [0., 0., 0., 0.],\n",
       "        [1., 0., 1., 1.],\n",
       "        [1., 0., 1., 1.]])"
      ]
     },
     "execution_count": 25,
     "metadata": {},
     "output_type": "execute_result"
    }
   ],
   "source": [
    "torch.mul(tensor,tensor.T)"
   ]
  },
  {
   "cell_type": "code",
   "execution_count": 26,
   "id": "1ff49c67-935d-47e2-a055-772c24211f84",
   "metadata": {
    "tags": []
   },
   "outputs": [
    {
     "data": {
      "text/plain": [
       "tensor(12.)"
      ]
     },
     "execution_count": 26,
     "metadata": {},
     "output_type": "execute_result"
    }
   ],
   "source": [
    "agg = tensor.sum()\n",
    "agg"
   ]
  },
  {
   "cell_type": "code",
   "execution_count": 27,
   "id": "8684c993-0dd2-4207-8e5b-879785801003",
   "metadata": {
    "tags": []
   },
   "outputs": [
    {
     "data": {
      "text/plain": [
       "12.0"
      ]
     },
     "execution_count": 27,
     "metadata": {},
     "output_type": "execute_result"
    }
   ],
   "source": [
    "agg.item()"
   ]
  },
  {
   "cell_type": "code",
   "execution_count": 28,
   "id": "7d80ae51-f74d-4e2f-ba7d-ef810e2e80af",
   "metadata": {
    "tags": []
   },
   "outputs": [
    {
     "data": {
      "text/plain": [
       "torch.Tensor"
      ]
     },
     "execution_count": 28,
     "metadata": {},
     "output_type": "execute_result"
    }
   ],
   "source": [
    "type(agg)"
   ]
  },
  {
   "cell_type": "code",
   "execution_count": 30,
   "id": "7a71bac8-73cf-4ceb-a9a8-3c861bb1073c",
   "metadata": {
    "tags": []
   },
   "outputs": [
    {
     "data": {
      "text/plain": [
       "float"
      ]
     },
     "execution_count": 30,
     "metadata": {},
     "output_type": "execute_result"
    }
   ],
   "source": [
    "type(agg.item())"
   ]
  },
  {
   "cell_type": "code",
   "execution_count": 32,
   "id": "04a8a460-4ac1-4233-888f-ead54e6e1948",
   "metadata": {
    "tags": []
   },
   "outputs": [
    {
     "data": {
      "text/plain": [
       "tensor([[1., 0., 1., 1.],\n",
       "        [1., 0., 1., 1.],\n",
       "        [1., 0., 1., 1.],\n",
       "        [1., 0., 1., 1.]])"
      ]
     },
     "execution_count": 32,
     "metadata": {},
     "output_type": "execute_result"
    }
   ],
   "source": [
    "tensor"
   ]
  },
  {
   "cell_type": "code",
   "execution_count": 37,
   "id": "7523f296-ca3c-4e33-8e05-3be7a3a48adc",
   "metadata": {
    "tags": []
   },
   "outputs": [
    {
     "data": {
      "text/plain": [
       "tensor([[1., 1., 1., 1.],\n",
       "        [0., 0., 0., 0.],\n",
       "        [1., 1., 1., 1.],\n",
       "        [1., 1., 1., 1.]])"
      ]
     },
     "execution_count": 37,
     "metadata": {},
     "output_type": "execute_result"
    }
   ],
   "source": [
    "tensor.t_() # operands with underscore suffix are inplace"
   ]
  },
  {
   "cell_type": "code",
   "execution_count": 38,
   "id": "982d34a7-803b-4a63-ac99-f64c1512b892",
   "metadata": {
    "tags": []
   },
   "outputs": [
    {
     "data": {
      "text/plain": [
       "tensor([[1., 1., 1., 1.],\n",
       "        [0., 0., 0., 0.],\n",
       "        [1., 1., 1., 1.],\n",
       "        [1., 1., 1., 1.]])"
      ]
     },
     "execution_count": 38,
     "metadata": {},
     "output_type": "execute_result"
    }
   ],
   "source": [
    "tensor"
   ]
  },
  {
   "cell_type": "code",
   "execution_count": 39,
   "id": "6a5b33ed-8672-45b2-9edf-8ce3ad655963",
   "metadata": {
    "tags": []
   },
   "outputs": [
    {
     "data": {
      "text/plain": [
       "tensor([[7., 7., 7., 7.],\n",
       "        [6., 6., 6., 6.],\n",
       "        [7., 7., 7., 7.],\n",
       "        [7., 7., 7., 7.]])"
      ]
     },
     "execution_count": 39,
     "metadata": {},
     "output_type": "execute_result"
    }
   ],
   "source": [
    "tensor.add_(6)"
   ]
  },
  {
   "cell_type": "code",
   "execution_count": 40,
   "id": "0e584a4d-6681-43a8-8fbe-c81bfac4ef60",
   "metadata": {
    "tags": []
   },
   "outputs": [
    {
     "data": {
      "text/plain": [
       "tensor([[49., 49., 49., 49.],\n",
       "        [36., 36., 36., 36.],\n",
       "        [49., 49., 49., 49.],\n",
       "        [49., 49., 49., 49.]])"
      ]
     },
     "execution_count": 40,
     "metadata": {},
     "output_type": "execute_result"
    }
   ],
   "source": [
    "tensor.mul_(tensor)"
   ]
  },
  {
   "cell_type": "code",
   "execution_count": 41,
   "id": "2e3b9986-0d4c-435c-b93b-8e0c026e9b03",
   "metadata": {
    "tags": []
   },
   "outputs": [
    {
     "data": {
      "text/plain": [
       "tensor([[49., 49., 49., 49.],\n",
       "        [36., 36., 36., 36.],\n",
       "        [49., 49., 49., 49.],\n",
       "        [49., 49., 49., 49.]])"
      ]
     },
     "execution_count": 41,
     "metadata": {},
     "output_type": "execute_result"
    }
   ],
   "source": [
    "tensor"
   ]
  },
  {
   "cell_type": "markdown",
   "id": "f1ab89c3-4edd-49c9-8b49-29c5196087b3",
   "metadata": {},
   "source": [
    "Inplace operations save some memory but can be problematic when computing derivatives because of an immediate loss of history - discouraged"
   ]
  },
  {
   "cell_type": "markdown",
   "id": "fc328f55-e299-4e4b-a1c7-16bbe8c329c5",
   "metadata": {},
   "source": [
    "Tensors on the CPU and numpy arrays can share underlying memory locations - changing one changes the other"
   ]
  },
  {
   "cell_type": "code",
   "execution_count": 42,
   "id": "565ab21f-f974-4c05-b5cc-ea3f250d43ae",
   "metadata": {
    "tags": []
   },
   "outputs": [],
   "source": [
    "t = torch.ones(5)"
   ]
  },
  {
   "cell_type": "code",
   "execution_count": 43,
   "id": "1c48746a-1d99-4e58-94c1-953866433535",
   "metadata": {
    "tags": []
   },
   "outputs": [
    {
     "data": {
      "text/plain": [
       "tensor([1., 1., 1., 1., 1.])"
      ]
     },
     "execution_count": 43,
     "metadata": {},
     "output_type": "execute_result"
    }
   ],
   "source": [
    "t"
   ]
  },
  {
   "cell_type": "code",
   "execution_count": 44,
   "id": "bd655e27-e8e6-4730-981a-f821ac547ec4",
   "metadata": {
    "tags": []
   },
   "outputs": [],
   "source": [
    "n = t.numpy()"
   ]
  },
  {
   "cell_type": "code",
   "execution_count": 45,
   "id": "2b945702-34b4-444e-ac06-17acf2228ddf",
   "metadata": {
    "tags": []
   },
   "outputs": [
    {
     "data": {
      "text/plain": [
       "array([1., 1., 1., 1., 1.], dtype=float32)"
      ]
     },
     "execution_count": 45,
     "metadata": {},
     "output_type": "execute_result"
    }
   ],
   "source": [
    "n"
   ]
  },
  {
   "cell_type": "code",
   "execution_count": 46,
   "id": "6d8dbc81-29e6-4d5e-b871-456441de544a",
   "metadata": {
    "tags": []
   },
   "outputs": [],
   "source": [
    "t[1] = 2"
   ]
  },
  {
   "cell_type": "code",
   "execution_count": 47,
   "id": "cc76916f-f962-451a-83ac-5e45433bfe99",
   "metadata": {
    "tags": []
   },
   "outputs": [
    {
     "data": {
      "text/plain": [
       "tensor([1., 2., 1., 1., 1.])"
      ]
     },
     "execution_count": 47,
     "metadata": {},
     "output_type": "execute_result"
    }
   ],
   "source": [
    "t"
   ]
  },
  {
   "cell_type": "code",
   "execution_count": 48,
   "id": "82aa2388-7310-4b64-bfa5-685024bd41cd",
   "metadata": {
    "tags": []
   },
   "outputs": [
    {
     "data": {
      "text/plain": [
       "array([1., 2., 1., 1., 1.], dtype=float32)"
      ]
     },
     "execution_count": 48,
     "metadata": {},
     "output_type": "execute_result"
    }
   ],
   "source": [
    "n"
   ]
  },
  {
   "cell_type": "markdown",
   "id": "19ed9fdb-d0f7-4ba9-b2b9-0bc2306d5619",
   "metadata": {},
   "source": [
    "Numpy array to tensor:"
   ]
  },
  {
   "cell_type": "code",
   "execution_count": 50,
   "id": "9daef5c0-1138-4229-a0cd-fa84ddbb7733",
   "metadata": {
    "tags": []
   },
   "outputs": [],
   "source": [
    "n = np.ones((5,5))"
   ]
  },
  {
   "cell_type": "code",
   "execution_count": 51,
   "id": "50c7fc70-5dff-42a7-b824-848b2f88dfe2",
   "metadata": {
    "tags": []
   },
   "outputs": [
    {
     "data": {
      "text/plain": [
       "tensor([[1., 1., 1., 1., 1.],\n",
       "        [1., 1., 1., 1., 1.],\n",
       "        [1., 1., 1., 1., 1.],\n",
       "        [1., 1., 1., 1., 1.],\n",
       "        [1., 1., 1., 1., 1.]], dtype=torch.float64)"
      ]
     },
     "execution_count": 51,
     "metadata": {},
     "output_type": "execute_result"
    }
   ],
   "source": [
    "t = torch.from_numpy(n)\n",
    "t"
   ]
  },
  {
   "cell_type": "code",
   "execution_count": 52,
   "id": "5231a651-e63c-4b3a-b48a-88ed58a21a20",
   "metadata": {
    "tags": []
   },
   "outputs": [
    {
     "data": {
      "text/plain": [
       "array([[3., 3., 3., 3., 3.],\n",
       "       [3., 3., 3., 3., 3.],\n",
       "       [3., 3., 3., 3., 3.],\n",
       "       [3., 3., 3., 3., 3.],\n",
       "       [3., 3., 3., 3., 3.]])"
      ]
     },
     "execution_count": 52,
     "metadata": {},
     "output_type": "execute_result"
    }
   ],
   "source": [
    "np.add(n,2,out=n)\n",
    "n"
   ]
  },
  {
   "cell_type": "code",
   "execution_count": 53,
   "id": "0b8d72ad-7dd4-4319-b184-cc85d0733f96",
   "metadata": {
    "tags": []
   },
   "outputs": [
    {
     "data": {
      "text/plain": [
       "tensor([[3., 3., 3., 3., 3.],\n",
       "        [3., 3., 3., 3., 3.],\n",
       "        [3., 3., 3., 3., 3.],\n",
       "        [3., 3., 3., 3., 3.],\n",
       "        [3., 3., 3., 3., 3.]], dtype=torch.float64)"
      ]
     },
     "execution_count": 53,
     "metadata": {},
     "output_type": "execute_result"
    }
   ],
   "source": [
    "t"
   ]
  },
  {
   "cell_type": "code",
   "execution_count": null,
   "id": "3a2ff3cc-862a-451a-86d9-1695d7f11f86",
   "metadata": {},
   "outputs": [],
   "source": []
  }
 ],
 "metadata": {
  "kernelspec": {
   "display_name": "Python 3 (ipykernel)",
   "language": "python",
   "name": "python3"
  },
  "language_info": {
   "codemirror_mode": {
    "name": "ipython",
    "version": 3
   },
   "file_extension": ".py",
   "mimetype": "text/x-python",
   "name": "python",
   "nbconvert_exporter": "python",
   "pygments_lexer": "ipython3",
   "version": "3.8.17"
  }
 },
 "nbformat": 4,
 "nbformat_minor": 5
}
